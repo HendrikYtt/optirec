{
 "cells": [
  {
   "cell_type": "code",
   "execution_count": 9,
   "metadata": {},
   "outputs": [
    {
     "data": {
      "text/html": [
       "<div>\n",
       "<style scoped>\n",
       "    .dataframe tbody tr th:only-of-type {\n",
       "        vertical-align: middle;\n",
       "    }\n",
       "\n",
       "    .dataframe tbody tr th {\n",
       "        vertical-align: top;\n",
       "    }\n",
       "\n",
       "    .dataframe thead th {\n",
       "        text-align: right;\n",
       "    }\n",
       "</style>\n",
       "<table border=\"1\" class=\"dataframe\">\n",
       "  <thead>\n",
       "    <tr style=\"text-align: right;\">\n",
       "      <th></th>\n",
       "      <th>user_id</th>\n",
       "      <th>match_id</th>\n",
       "      <th>rating</th>\n",
       "    </tr>\n",
       "    <tr>\n",
       "      <th>id</th>\n",
       "      <th></th>\n",
       "      <th></th>\n",
       "      <th></th>\n",
       "    </tr>\n",
       "  </thead>\n",
       "  <tbody>\n",
       "    <tr>\n",
       "      <th>daa0ddc3-eaaf-44aa-9977-7266d2cbbd35</th>\n",
       "      <td>65033</td>\n",
       "      <td>2336348</td>\n",
       "      <td>1</td>\n",
       "    </tr>\n",
       "    <tr>\n",
       "      <th>c7823ad9-26aa-4d41-b671-dfd5151ecdbf</th>\n",
       "      <td>47630</td>\n",
       "      <td>2333998</td>\n",
       "      <td>1</td>\n",
       "    </tr>\n",
       "    <tr>\n",
       "      <th>ac15efdf-0d1d-472f-8d0b-74026c2885f0</th>\n",
       "      <td>63120</td>\n",
       "      <td>2018954</td>\n",
       "      <td>1</td>\n",
       "    </tr>\n",
       "    <tr>\n",
       "      <th>53d438c9-62f0-4984-a3ac-a7cc953e4026</th>\n",
       "      <td>52358</td>\n",
       "      <td>2329228</td>\n",
       "      <td>1</td>\n",
       "    </tr>\n",
       "    <tr>\n",
       "      <th>4496ddf6-d776-4a93-905c-09a8ea631f04</th>\n",
       "      <td>52358</td>\n",
       "      <td>2018954</td>\n",
       "      <td>1</td>\n",
       "    </tr>\n",
       "  </tbody>\n",
       "</table>\n",
       "</div>"
      ],
      "text/plain": [
       "                                      user_id  match_id  rating\n",
       "id                                                             \n",
       "daa0ddc3-eaaf-44aa-9977-7266d2cbbd35    65033   2336348       1\n",
       "c7823ad9-26aa-4d41-b671-dfd5151ecdbf    47630   2333998       1\n",
       "ac15efdf-0d1d-472f-8d0b-74026c2885f0    63120   2018954       1\n",
       "53d438c9-62f0-4984-a3ac-a7cc953e4026    52358   2329228       1\n",
       "4496ddf6-d776-4a93-905c-09a8ea631f04    52358   2018954       1"
      ]
     },
     "execution_count": 9,
     "metadata": {},
     "output_type": "execute_result"
    }
   ],
   "source": [
    "import pandas as pd\n",
    "\n",
    "\n",
    "df_interactions = pd.read_csv(\n",
    "    '../docs/coolbet/data/prod/interactions.csv',\n",
    "    usecols=['id', 'user_id', 'match_id', 'created_at'],\n",
    "    index_col=0,\n",
    "    parse_dates=['created_at']\n",
    ")\n",
    "df_interactions = df_interactions[df_interactions['created_at'] > '2022-11-01']\n",
    "df_interactions.sort_values(by=['created_at'])\n",
    "df_interactions['rating'] = 1\n",
    "df_interactions.drop(columns=['created_at'], inplace=True)\n",
    "df_interactions.head()"
   ]
  },
  {
   "cell_type": "code",
   "execution_count": null,
   "metadata": {},
   "outputs": [
    {
     "data": {
      "text/html": [
       "<div>\n",
       "<style scoped>\n",
       "    .dataframe tbody tr th:only-of-type {\n",
       "        vertical-align: middle;\n",
       "    }\n",
       "\n",
       "    .dataframe tbody tr th {\n",
       "        vertical-align: top;\n",
       "    }\n",
       "\n",
       "    .dataframe thead th {\n",
       "        text-align: right;\n",
       "    }\n",
       "</style>\n",
       "<table border=\"1\" class=\"dataframe\">\n",
       "  <thead>\n",
       "    <tr style=\"text-align: right;\">\n",
       "      <th></th>\n",
       "      <th>user_id</th>\n",
       "      <th>match_id</th>\n",
       "      <th>rating</th>\n",
       "    </tr>\n",
       "    <tr>\n",
       "      <th>id</th>\n",
       "      <th></th>\n",
       "      <th></th>\n",
       "      <th></th>\n",
       "    </tr>\n",
       "  </thead>\n",
       "  <tbody>\n",
       "    <tr>\n",
       "      <th>daa0ddc3-eaaf-44aa-9977-7266d2cbbd35</th>\n",
       "      <td>65033</td>\n",
       "      <td>2336348</td>\n",
       "      <td>1</td>\n",
       "    </tr>\n",
       "    <tr>\n",
       "      <th>c7823ad9-26aa-4d41-b671-dfd5151ecdbf</th>\n",
       "      <td>47630</td>\n",
       "      <td>2333998</td>\n",
       "      <td>1</td>\n",
       "    </tr>\n",
       "    <tr>\n",
       "      <th>ac15efdf-0d1d-472f-8d0b-74026c2885f0</th>\n",
       "      <td>63120</td>\n",
       "      <td>2018954</td>\n",
       "      <td>1</td>\n",
       "    </tr>\n",
       "    <tr>\n",
       "      <th>53d438c9-62f0-4984-a3ac-a7cc953e4026</th>\n",
       "      <td>52358</td>\n",
       "      <td>2329228</td>\n",
       "      <td>1</td>\n",
       "    </tr>\n",
       "    <tr>\n",
       "      <th>4496ddf6-d776-4a93-905c-09a8ea631f04</th>\n",
       "      <td>52358</td>\n",
       "      <td>2018954</td>\n",
       "      <td>1</td>\n",
       "    </tr>\n",
       "  </tbody>\n",
       "</table>\n",
       "</div>"
      ],
      "text/plain": [
       "                                      user_id  match_id  rating\n",
       "id                                                             \n",
       "daa0ddc3-eaaf-44aa-9977-7266d2cbbd35    65033   2336348       1\n",
       "c7823ad9-26aa-4d41-b671-dfd5151ecdbf    47630   2333998       1\n",
       "ac15efdf-0d1d-472f-8d0b-74026c2885f0    63120   2018954       1\n",
       "53d438c9-62f0-4984-a3ac-a7cc953e4026    52358   2329228       1\n",
       "4496ddf6-d776-4a93-905c-09a8ea631f04    52358   2018954       1"
      ]
     },
     "execution_count": 14,
     "metadata": {},
     "output_type": "execute_result"
    },
    {
     "ename": "",
     "evalue": "",
     "output_type": "error",
     "traceback": [
      "\u001b[1;31mnotebook controller is DISPOSED. \n",
      "\u001b[1;31mView Jupyter <a href='command:jupyter.viewOutput'>log</a> for further details."
     ]
    },
    {
     "ename": "",
     "evalue": "",
     "output_type": "error",
     "traceback": [
      "\u001b[1;31mnotebook controller is DISPOSED. \n",
      "\u001b[1;31mView Jupyter <a href='command:jupyter.viewOutput'>log</a> for further details."
     ]
    }
   ],
   "source": [
    "df_train = df_interactions[:int(len(df_interactions)*0.8)]\n",
    "df_test = df_interactions[int(len(df_interactions)*0.8):]\n",
    "\n",
    "df_train.head()"
   ]
  },
  {
   "cell_type": "code",
   "execution_count": null,
   "metadata": {},
   "outputs": [
    {
     "data": {
      "text/html": [
       "<div>\n",
       "<style scoped>\n",
       "    .dataframe tbody tr th:only-of-type {\n",
       "        vertical-align: middle;\n",
       "    }\n",
       "\n",
       "    .dataframe tbody tr th {\n",
       "        vertical-align: top;\n",
       "    }\n",
       "\n",
       "    .dataframe thead th {\n",
       "        text-align: right;\n",
       "    }\n",
       "</style>\n",
       "<table border=\"1\" class=\"dataframe\">\n",
       "  <thead>\n",
       "    <tr style=\"text-align: right;\">\n",
       "      <th></th>\n",
       "      <th>user_id</th>\n",
       "      <th>match_id</th>\n",
       "      <th>stake_eur</th>\n",
       "      <th>created_at</th>\n",
       "      <th>rating</th>\n",
       "    </tr>\n",
       "    <tr>\n",
       "      <th>id</th>\n",
       "      <th></th>\n",
       "      <th></th>\n",
       "      <th></th>\n",
       "      <th></th>\n",
       "      <th></th>\n",
       "    </tr>\n",
       "  </thead>\n",
       "  <tbody>\n",
       "    <tr>\n",
       "      <th>77d2443e-9c9e-451f-9188-27e6a5ff7a30</th>\n",
       "      <td>h1zDX7Tt</td>\n",
       "      <td>309359</td>\n",
       "      <td>0.33</td>\n",
       "      <td>2022-10-10 23:50:39</td>\n",
       "      <td>1</td>\n",
       "    </tr>\n",
       "    <tr>\n",
       "      <th>7794bf4b-107e-430c-a54a-d52d318edbc1</th>\n",
       "      <td>h1zDX7Tt</td>\n",
       "      <td>309370</td>\n",
       "      <td>0.33</td>\n",
       "      <td>2022-10-10 23:50:39</td>\n",
       "      <td>1</td>\n",
       "    </tr>\n",
       "    <tr>\n",
       "      <th>547b80c1-5728-46eb-b993-f12d5845ca2c</th>\n",
       "      <td>h1zDX7Tt</td>\n",
       "      <td>309379</td>\n",
       "      <td>0.33</td>\n",
       "      <td>2022-10-10 23:50:39</td>\n",
       "      <td>1</td>\n",
       "    </tr>\n",
       "    <tr>\n",
       "      <th>7dc9c86f-079a-432b-a051-f549c308cb9e</th>\n",
       "      <td>h1zDX7Tt</td>\n",
       "      <td>309366</td>\n",
       "      <td>0.33</td>\n",
       "      <td>2022-10-10 23:50:39</td>\n",
       "      <td>1</td>\n",
       "    </tr>\n",
       "    <tr>\n",
       "      <th>d010f3cd-62b2-4d31-bbdf-7b8567868d17</th>\n",
       "      <td>h1zDX7Tt</td>\n",
       "      <td>309370</td>\n",
       "      <td>0.33</td>\n",
       "      <td>2022-10-10 23:50:39</td>\n",
       "      <td>1</td>\n",
       "    </tr>\n",
       "  </tbody>\n",
       "</table>\n",
       "</div>"
      ],
      "text/plain": [
       "                                       user_id  match_id  stake_eur  \\\n",
       "id                                                                    \n",
       "77d2443e-9c9e-451f-9188-27e6a5ff7a30  h1zDX7Tt    309359       0.33   \n",
       "7794bf4b-107e-430c-a54a-d52d318edbc1  h1zDX7Tt    309370       0.33   \n",
       "547b80c1-5728-46eb-b993-f12d5845ca2c  h1zDX7Tt    309379       0.33   \n",
       "7dc9c86f-079a-432b-a051-f549c308cb9e  h1zDX7Tt    309366       0.33   \n",
       "d010f3cd-62b2-4d31-bbdf-7b8567868d17  h1zDX7Tt    309370       0.33   \n",
       "\n",
       "                                               created_at  rating  \n",
       "id                                                                 \n",
       "77d2443e-9c9e-451f-9188-27e6a5ff7a30  2022-10-10 23:50:39       1  \n",
       "7794bf4b-107e-430c-a54a-d52d318edbc1  2022-10-10 23:50:39       1  \n",
       "547b80c1-5728-46eb-b993-f12d5845ca2c  2022-10-10 23:50:39       1  \n",
       "7dc9c86f-079a-432b-a051-f549c308cb9e  2022-10-10 23:50:39       1  \n",
       "d010f3cd-62b2-4d31-bbdf-7b8567868d17  2022-10-10 23:50:39       1  "
      ]
     },
     "execution_count": 7,
     "metadata": {},
     "output_type": "execute_result"
    },
    {
     "ename": "",
     "evalue": "",
     "output_type": "error",
     "traceback": [
      "\u001b[1;31mnotebook controller is DISPOSED. \n",
      "\u001b[1;31mView Jupyter <a href='command:jupyter.viewOutput'>log</a> for further details."
     ]
    }
   ],
   "source": [
    "df_test.head()"
   ]
  },
  {
   "cell_type": "code",
   "execution_count": 8,
   "metadata": {},
   "outputs": [
    {
     "ename": "ValueError",
     "evalue": "too many values to unpack (expected 3)",
     "output_type": "error",
     "traceback": [
      "\u001b[0;31m---------------------------------------------------------------------------\u001b[0m",
      "\u001b[0;31mValueError\u001b[0m                                Traceback (most recent call last)",
      "Cell \u001b[0;32mIn [8], line 5\u001b[0m\n\u001b[1;32m      1\u001b[0m \u001b[39mfrom\u001b[39;00m \u001b[39msurprise\u001b[39;00m\u001b[39m.\u001b[39;00m\u001b[39mdataset\u001b[39;00m \u001b[39mimport\u001b[39;00m Reader, Dataset, DatasetUserFolds\n\u001b[1;32m      3\u001b[0m reader \u001b[39m=\u001b[39m Reader(rating_scale\u001b[39m=\u001b[39m(\u001b[39m0\u001b[39m, \u001b[39m1\u001b[39m))\n\u001b[0;32m----> 5\u001b[0m trainset \u001b[39m=\u001b[39m Dataset\u001b[39m.\u001b[39;49mload_from_df(\n\u001b[1;32m      6\u001b[0m     df_train,\n\u001b[1;32m      7\u001b[0m     reader\u001b[39m=\u001b[39;49mreader\n\u001b[1;32m      8\u001b[0m )\n\u001b[1;32m      9\u001b[0m trainset \u001b[39m=\u001b[39m trainset\u001b[39m.\u001b[39mbuild_full_trainset()\n\u001b[1;32m     11\u001b[0m testset \u001b[39m=\u001b[39m Dataset\u001b[39m.\u001b[39mload_from_df(\n\u001b[1;32m     12\u001b[0m     df_test,\n\u001b[1;32m     13\u001b[0m     reader\u001b[39m=\u001b[39mreader\n\u001b[1;32m     14\u001b[0m )\n",
      "File \u001b[0;32m~/Documents/taltech/nrocinu/models/.venv/lib/python3.8/site-packages/surprise/dataset.py:167\u001b[0m, in \u001b[0;36mDataset.load_from_df\u001b[0;34m(cls, df, reader)\u001b[0m\n\u001b[1;32m    150\u001b[0m \u001b[39m@classmethod\u001b[39m\n\u001b[1;32m    151\u001b[0m \u001b[39mdef\u001b[39;00m \u001b[39mload_from_df\u001b[39m(\u001b[39mcls\u001b[39m, df, reader):\n\u001b[1;32m    152\u001b[0m     \u001b[39m\"\"\"Load a dataset from a pandas dataframe.\u001b[39;00m\n\u001b[1;32m    153\u001b[0m \n\u001b[1;32m    154\u001b[0m \u001b[39m    Use this if you want to use a custom dataset that is stored in a pandas\u001b[39;00m\n\u001b[0;32m   (...)\u001b[0m\n\u001b[1;32m    164\u001b[0m \u001b[39m            specified.\u001b[39;00m\n\u001b[1;32m    165\u001b[0m \u001b[39m    \"\"\"\u001b[39;00m\n\u001b[0;32m--> 167\u001b[0m     \u001b[39mreturn\u001b[39;00m DatasetAutoFolds(reader\u001b[39m=\u001b[39;49mreader, df\u001b[39m=\u001b[39;49mdf)\n",
      "File \u001b[0;32m~/Documents/taltech/nrocinu/models/.venv/lib/python3.8/site-packages/surprise/dataset.py:262\u001b[0m, in \u001b[0;36mDatasetAutoFolds.__init__\u001b[0;34m(self, ratings_file, reader, df)\u001b[0m\n\u001b[1;32m    260\u001b[0m \u001b[39melif\u001b[39;00m df \u001b[39mis\u001b[39;00m \u001b[39mnot\u001b[39;00m \u001b[39mNone\u001b[39;00m:\n\u001b[1;32m    261\u001b[0m     \u001b[39mself\u001b[39m\u001b[39m.\u001b[39mdf \u001b[39m=\u001b[39m df\n\u001b[0;32m--> 262\u001b[0m     \u001b[39mself\u001b[39m\u001b[39m.\u001b[39mraw_ratings \u001b[39m=\u001b[39m [\n\u001b[1;32m    263\u001b[0m         (uid, iid, \u001b[39mfloat\u001b[39m(r), \u001b[39mNone\u001b[39;00m)\n\u001b[1;32m    264\u001b[0m         \u001b[39mfor\u001b[39;00m (uid, iid, r) \u001b[39min\u001b[39;00m \u001b[39mself\u001b[39m\u001b[39m.\u001b[39mdf\u001b[39m.\u001b[39mitertuples(index\u001b[39m=\u001b[39m\u001b[39mFalse\u001b[39;00m)\n\u001b[1;32m    265\u001b[0m     ]\n\u001b[1;32m    266\u001b[0m \u001b[39melse\u001b[39;00m:\n\u001b[1;32m    267\u001b[0m     \u001b[39mraise\u001b[39;00m \u001b[39mValueError\u001b[39;00m(\u001b[39m\"\u001b[39m\u001b[39mMust specify ratings file or dataframe.\u001b[39m\u001b[39m\"\u001b[39m)\n",
      "File \u001b[0;32m~/Documents/taltech/nrocinu/models/.venv/lib/python3.8/site-packages/surprise/dataset.py:264\u001b[0m, in \u001b[0;36m<listcomp>\u001b[0;34m(.0)\u001b[0m\n\u001b[1;32m    260\u001b[0m \u001b[39melif\u001b[39;00m df \u001b[39mis\u001b[39;00m \u001b[39mnot\u001b[39;00m \u001b[39mNone\u001b[39;00m:\n\u001b[1;32m    261\u001b[0m     \u001b[39mself\u001b[39m\u001b[39m.\u001b[39mdf \u001b[39m=\u001b[39m df\n\u001b[1;32m    262\u001b[0m     \u001b[39mself\u001b[39m\u001b[39m.\u001b[39mraw_ratings \u001b[39m=\u001b[39m [\n\u001b[1;32m    263\u001b[0m         (uid, iid, \u001b[39mfloat\u001b[39m(r), \u001b[39mNone\u001b[39;00m)\n\u001b[0;32m--> 264\u001b[0m         \u001b[39mfor\u001b[39;00m (uid, iid, r) \u001b[39min\u001b[39;00m \u001b[39mself\u001b[39m\u001b[39m.\u001b[39mdf\u001b[39m.\u001b[39mitertuples(index\u001b[39m=\u001b[39m\u001b[39mFalse\u001b[39;00m)\n\u001b[1;32m    265\u001b[0m     ]\n\u001b[1;32m    266\u001b[0m \u001b[39melse\u001b[39;00m:\n\u001b[1;32m    267\u001b[0m     \u001b[39mraise\u001b[39;00m \u001b[39mValueError\u001b[39;00m(\u001b[39m\"\u001b[39m\u001b[39mMust specify ratings file or dataframe.\u001b[39m\u001b[39m\"\u001b[39m)\n",
      "\u001b[0;31mValueError\u001b[0m: too many values to unpack (expected 3)"
     ]
    }
   ],
   "source": [
    "from surprise.dataset import Reader, Dataset, DatasetUserFolds\n",
    "\n",
    "reader = Reader(rating_scale=(0, 1))\n",
    "\n",
    "trainset = Dataset.load_from_df(\n",
    "    df_train,\n",
    "    reader=reader\n",
    ")\n",
    "trainset = trainset.build_full_trainset()\n",
    "\n",
    "testset = Dataset.load_from_df(\n",
    "    df_test,\n",
    "    reader=reader\n",
    ")\n",
    "testset = testset.build_full_trainset()\n",
    "testset = testset.build_testset()\n",
    "\n",
    "len(df_interactions), trainset.n_ratings, len(testset)"
   ]
  },
  {
   "cell_type": "code",
   "execution_count": 17,
   "metadata": {},
   "outputs": [
    {
     "data": {
      "text/plain": [
       "[Prediction(uid=47536, iid=2305521, r_ui=1.0, est=0.9991856715889266, details={'was_impossible': False}),\n",
       " Prediction(uid=47536, iid=2327789, r_ui=1.0, est=0.9997085183510497, details={'was_impossible': False}),\n",
       " Prediction(uid=47536, iid=2333365, r_ui=1.0, est=0.991278450650175, details={'was_impossible': False}),\n",
       " Prediction(uid=30740, iid=2305143, r_ui=1.0, est=1, details={'was_impossible': False}),\n",
       " Prediction(uid=30740, iid=2305520, r_ui=1.0, est=1, details={'was_impossible': False})]"
      ]
     },
     "execution_count": 17,
     "metadata": {},
     "output_type": "execute_result"
    }
   ],
   "source": [
    "from surprise.prediction_algorithms.matrix_factorization import SVD\n",
    "\n",
    "model = SVD(n_factors=50)\n",
    "model.fit(trainset)\n",
    "\n",
    "pred = model.test(testset)\n",
    "pred[:5]"
   ]
  },
  {
   "cell_type": "markdown",
   "metadata": {},
   "source": [
    "## Hit Rate"
   ]
  },
  {
   "cell_type": "code",
   "execution_count": 18,
   "metadata": {},
   "outputs": [
    {
     "data": {
      "text/plain": [
       "0.6521124865446717"
      ]
     },
     "execution_count": 18,
     "metadata": {},
     "output_type": "execute_result"
    }
   ],
   "source": [
    "def hit_rate(y, y_hat, L = 10):\n",
    "    hit = 0\n",
    "    total = 0\n",
    "\n",
    "    for user_id, item_id, _ in y:\n",
    "        user_pred = [x for x in y_hat if x.uid == user_id]\n",
    "        user_pred = sorted(user_pred, key=lambda x: x.est, reverse=True)[:L]\n",
    "        \n",
    "        total += 1\n",
    "        if item_id in [x.iid for x in user_pred]:\n",
    "            hit += 1\n",
    "    return hit  / total\n",
    "\n",
    "\n",
    "hit_rate(testset, pred)"
   ]
  },
  {
   "cell_type": "markdown",
   "metadata": {},
   "source": [
    "## MRR / ARHR"
   ]
  },
  {
   "cell_type": "code",
   "execution_count": 19,
   "metadata": {},
   "outputs": [
    {
     "data": {
      "text/plain": [
       "0.3351429547918661"
      ]
     },
     "execution_count": 19,
     "metadata": {},
     "output_type": "execute_result"
    }
   ],
   "source": [
    "def mean_repricoral_rank(y, y_hat, L = 10):\n",
    "    result = 0\n",
    "\n",
    "    user_ids = set([x[0] for x in y])\n",
    "    for user_id in user_ids:\n",
    "        user_pred = [x for x in y_hat if x.uid == user_id]\n",
    "        user_pred = sorted(user_pred, key=lambda x: x.est, reverse=True)[:L]\n",
    "        \n",
    "        user_test_iids = {x[1] for x in y if x[0] == user_id}\n",
    "        \n",
    "        repricoral_rank = 0\n",
    "        for rank, item in enumerate(user_pred):\n",
    "            if item.iid in user_test_iids:\n",
    "                repricoral_rank = 1 / (rank + 1)\n",
    "        result += repricoral_rank\n",
    "\n",
    "    return result / len(user_ids)\n",
    "\n",
    "mean_repricoral_rank(testset, pred)"
   ]
  },
  {
   "cell_type": "markdown",
   "metadata": {},
   "source": [
    "## MAP"
   ]
  },
  {
   "cell_type": "code",
   "execution_count": 20,
   "metadata": {},
   "outputs": [
    {
     "data": {
      "text/plain": [
       "5.500636402206195"
      ]
     },
     "execution_count": 20,
     "metadata": {},
     "output_type": "execute_result"
    }
   ],
   "source": [
    "def mean_average_precision(y, y_hat, L = 10):\n",
    "    map = 0\n",
    "    \n",
    "    user_ids = set([x[0] for x in y])\n",
    "    for user_id in user_ids:\n",
    "        user_pred = [x for x in y_hat if x.uid == user_id]\n",
    "        user_pred = sorted(user_pred, key=lambda x: x.est, reverse=True)[:L]\n",
    "        \n",
    "        user_test_iids = {x[1] for x in y if x[0] == user_id}\n",
    "\n",
    "        ap = 0\n",
    "        n_relevant = 0\n",
    "        for i, item in enumerate(user_pred):\n",
    "            rel_k = 1 if item.iid in user_test_iids else 0\n",
    "            n_relevant += rel_k\n",
    "            precision_k = n_relevant / (i + 1)\n",
    "            ap += precision_k * rel_k\n",
    "        map += ap\n",
    "    return map / len(user_ids)\n",
    "\n",
    "mean_average_precision(testset, pred)"
   ]
  },
  {
   "cell_type": "code",
   "execution_count": 21,
   "metadata": {},
   "outputs": [],
   "source": [
    "def eval_model(y, y_hat):\n",
    "    print(' | '.join([\n",
    "        f'Hit Rate: {hit_rate(y, y_hat):.4f}',\n",
    "        f'MRR: {mean_repricoral_rank(y, y_hat):.4f}',\n",
    "        f'MAP: {mean_average_precision(y, y_hat):.4f}'\n",
    "    ]))"
   ]
  },
  {
   "cell_type": "code",
   "execution_count": 22,
   "metadata": {},
   "outputs": [
    {
     "name": "stdout",
     "output_type": "stream",
     "text": [
      "Hit Rate: 0.7411 | MRR: 0.3351 | MAP: 5.5006\n"
     ]
    }
   ],
   "source": [
    "from surprise.prediction_algorithms.matrix_factorization import SVD\n",
    "\n",
    "model = SVD()\n",
    "model.fit(trainset)\n",
    "pred = model.test(testset)\n",
    "eval_model(testset, pred)"
   ]
  },
  {
   "cell_type": "code",
   "execution_count": 23,
   "metadata": {},
   "outputs": [
    {
     "name": "stdout",
     "output_type": "stream",
     "text": [
      "Hit Rate: 0.7270 | MRR: 0.3351 | MAP: 5.5006\n"
     ]
    }
   ],
   "source": [
    "from surprise.prediction_algorithms.matrix_factorization import SVDpp\n",
    "\n",
    "# optimized for implicit ratings\n",
    "model = SVDpp()\n",
    "model.fit(trainset)\n",
    "pred = model.test(testset)\n",
    "eval_model(testset, pred)"
   ]
  },
  {
   "cell_type": "code",
   "execution_count": 24,
   "metadata": {},
   "outputs": [
    {
     "name": "stdout",
     "output_type": "stream",
     "text": [
      "Hit Rate: 0.7514 | MRR: 0.3351 | MAP: 5.5006\n"
     ]
    }
   ],
   "source": [
    "from surprise.prediction_algorithms.matrix_factorization import NMF\n",
    "\n",
    "# SVD, but latent factors are forced to be non-negative\n",
    "model = NMF()\n",
    "model.fit(trainset)\n",
    "pred = model.test(testset)\n",
    "eval_model(testset, pred) # not suitable for implicit feedback"
   ]
  },
  {
   "cell_type": "code",
   "execution_count": 25,
   "metadata": {},
   "outputs": [
    {
     "name": "stdout",
     "output_type": "stream",
     "text": [
      "Hit Rate: 0.8269 | MRR: 0.3351 | MAP: 5.5006\n"
     ]
    }
   ],
   "source": [
    "from surprise.prediction_algorithms.slope_one import SlopeOne\n",
    "\n",
    "model = SlopeOne()\n",
    "model.fit(trainset)\n",
    "pred = model.test(testset)\n",
    "eval_model(testset, pred) # test on real data, but likely not scalable and more suitable for explicit feedback"
   ]
  },
  {
   "cell_type": "markdown",
   "metadata": {},
   "source": [
    "## Spark"
   ]
  },
  {
   "cell_type": "code",
   "execution_count": 26,
   "metadata": {},
   "outputs": [
    {
     "name": "stdout",
     "output_type": "stream",
     "text": [
      "22/11/01 19:30:24 WARN Utils: Your hostname, dell resolves to a loopback address: 127.0.1.1; using 192.168.5.173 instead (on interface wlp0s20f3)\n",
      "22/11/01 19:30:24 WARN Utils: Set SPARK_LOCAL_IP if you need to bind to another address\n"
     ]
    },
    {
     "name": "stderr",
     "output_type": "stream",
     "text": [
      "Setting default log level to \"WARN\".\n",
      "To adjust logging level use sc.setLogLevel(newLevel). For SparkR, use setLogLevel(newLevel).\n"
     ]
    },
    {
     "name": "stdout",
     "output_type": "stream",
     "text": [
      "22/11/01 19:30:25 WARN NativeCodeLoader: Unable to load native-hadoop library for your platform... using builtin-java classes where applicable\n"
     ]
    },
    {
     "name": "stderr",
     "output_type": "stream",
     "text": [
      "/home/hendrikutt/Documents/taltech/nrocinu/models/.venv/lib/python3.8/site-packages/pyspark/sql/pandas/conversion.py:474: FutureWarning: iteritems is deprecated and will be removed in a future version. Use .items instead.\n",
      "  for column, series in pdf.iteritems():\n",
      "/home/hendrikutt/Documents/taltech/nrocinu/models/.venv/lib/python3.8/site-packages/pyspark/sql/pandas/conversion.py:486: FutureWarning: iteritems is deprecated and will be removed in a future version. Use .items instead.\n",
      "  for column, series in pdf.iteritems():\n"
     ]
    },
    {
     "name": "stdout",
     "output_type": "stream",
     "text": [
      "root\n",
      " |-- user_id: long (nullable = true)\n",
      " |-- match_id: long (nullable = true)\n",
      " |-- rating: long (nullable = true)\n",
      "\n",
      "+-------+--------+------+\n",
      "|user_id|match_id|rating|\n",
      "+-------+--------+------+\n",
      "|  65033| 2336348|     1|\n",
      "|  47630| 2333998|     1|\n",
      "|  63120| 2018954|     1|\n",
      "|  52358| 2329228|     1|\n",
      "|  52358| 2018954|     1|\n",
      "|  10590| 2329828|     1|\n",
      "|  36422| 2321339|     1|\n",
      "|  36422| 2321340|     1|\n",
      "|  36422| 2321341|     1|\n",
      "|  36422| 2321342|     1|\n",
      "|  36422| 2321976|     1|\n",
      "|  36422| 2322630|     1|\n",
      "|  36422| 2322631|     1|\n",
      "|  36422| 2323061|     1|\n",
      "|  36422| 2324424|     1|\n",
      "|  36422| 2324425|     1|\n",
      "|  36422| 2324426|     1|\n",
      "|  39281| 2329813|     1|\n",
      "|  39281| 2329830|     1|\n",
      "|  39281| 2018948|     1|\n",
      "+-------+--------+------+\n",
      "only showing top 20 rows\n",
      "\n"
     ]
    },
    {
     "name": "stderr",
     "output_type": "stream",
     "text": [
      "                                                                                \r"
     ]
    }
   ],
   "source": [
    "from pyspark.sql import SparkSession\n",
    "\n",
    "spark = SparkSession.builder\\\n",
    "    .appName('nrocinu')\\\n",
    "    .getOrCreate()\n",
    "    \n",
    "spark_df = spark.createDataFrame(df_interactions)\n",
    "spark_df.printSchema()\n",
    "spark_df.show()"
   ]
  },
  {
   "cell_type": "code",
   "execution_count": 27,
   "metadata": {},
   "outputs": [
    {
     "name": "stderr",
     "output_type": "stream",
     "text": [
      "                                                                                \r"
     ]
    },
    {
     "name": "stdout",
     "output_type": "stream",
     "text": [
      "+-------+--------+------+-------------+--------------+\n",
      "|user_id|match_id|rating|user_id_index|match_id_index|\n",
      "+-------+--------+------+-------------+--------------+\n",
      "|  65033| 2336348|     1|      13775.0|         204.0|\n",
      "|  47630| 2333998|     1|       3031.0|         143.0|\n",
      "|  63120| 2018954|     1|      15501.0|          20.0|\n",
      "|  52358| 2329228|     1|         66.0|          29.0|\n",
      "|  52358| 2018954|     1|         66.0|          20.0|\n",
      "|  10590| 2329828|     1|       4240.0|         106.0|\n",
      "|  36422| 2321339|     1|         79.0|          65.0|\n",
      "|  36422| 2321340|     1|         79.0|          41.0|\n",
      "|  36422| 2321341|     1|         79.0|          90.0|\n",
      "|  36422| 2321342|     1|         79.0|          74.0|\n",
      "|  36422| 2321976|     1|         79.0|         172.0|\n",
      "|  36422| 2322630|     1|         79.0|         439.0|\n",
      "|  36422| 2322631|     1|         79.0|         556.0|\n",
      "|  36422| 2323061|     1|         79.0|         595.0|\n",
      "|  36422| 2324424|     1|         79.0|         596.0|\n",
      "|  36422| 2324425|     1|         79.0|         571.0|\n",
      "|  36422| 2324426|     1|         79.0|         557.0|\n",
      "|  39281| 2329813|     1|        159.0|          37.0|\n",
      "|  39281| 2329830|     1|        159.0|          27.0|\n",
      "|  39281| 2018948|     1|        159.0|         302.0|\n",
      "+-------+--------+------+-------------+--------------+\n",
      "only showing top 20 rows\n",
      "\n"
     ]
    }
   ],
   "source": [
    "from pyspark.ml.recommendation import ALS\n",
    "from pyspark.ml.feature import StringIndexer\n",
    "from pyspark.ml import Pipeline\n",
    "\n",
    "indexer = [StringIndexer(inputCol=column, outputCol=f'{column}_index') for column in list(set(spark_df.columns) - set(['rating']))]\n",
    "pipeline = Pipeline(stages=indexer)\n",
    "transformed = pipeline.fit(spark_df).transform(spark_df)\n",
    "transformed.show()"
   ]
  },
  {
   "cell_type": "code",
   "execution_count": 28,
   "metadata": {},
   "outputs": [],
   "source": [
    "train, test = transformed.randomSplit([0.8, 0.2])\n",
    "\n",
    "model = ALS(\n",
    "    maxIter=5,\n",
    "    regParam=0.09,\n",
    "    rank=25,\n",
    "    userCol=\"user_id_index\",\n",
    "    itemCol=\"match_id_index\",\n",
    "    ratingCol=\"rating\",\n",
    "    coldStartStrategy=\"drop\",\n",
    "    nonnegative=True\n",
    ")\n",
    "model = model.fit(train)\n"
   ]
  },
  {
   "cell_type": "code",
   "execution_count": 29,
   "metadata": {},
   "outputs": [
    {
     "name": "stderr",
     "output_type": "stream",
     "text": [
      "                                                                                \r"
     ]
    }
   ],
   "source": [
    "from surprise import Prediction\n",
    "\n",
    "pred = model.transform(test)\n",
    "pred = pred.rdd.map(lambda row: Prediction(row['user_id'], row['match_id'], 1, row['prediction'], {})).collect()\n",
    "testset = test.rdd.map(lambda row: (row['user_id'], row['match_id'], row['rating'])).collect()"
   ]
  },
  {
   "cell_type": "code",
   "execution_count": 30,
   "metadata": {},
   "outputs": [
    {
     "name": "stdout",
     "output_type": "stream",
     "text": [
      "Hit Rate: 0.7907 | MRR: 0.5168 | MAP: 3.1808\n"
     ]
    }
   ],
   "source": [
    "eval_model(testset, pred)"
   ]
  }
 ],
 "metadata": {
  "kernelspec": {
   "display_name": "Python 3.8.10 ('.venv': venv)",
   "language": "python",
   "name": "python3"
  },
  "language_info": {
   "codemirror_mode": {
    "name": "ipython",
    "version": 3
   },
   "file_extension": ".py",
   "mimetype": "text/x-python",
   "name": "python",
   "nbconvert_exporter": "python",
   "pygments_lexer": "ipython3",
   "version": "3.10.7"
  },
  "orig_nbformat": 4,
  "vscode": {
   "interpreter": {
    "hash": "d39082b863a1fae2ae39b83c4e94488a6272236157f51c04cca56ecb1b8521fc"
   }
  }
 },
 "nbformat": 4,
 "nbformat_minor": 2
}
