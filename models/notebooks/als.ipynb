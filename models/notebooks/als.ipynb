{
 "cells": [
  {
   "cell_type": "code",
   "execution_count": 2,
   "metadata": {},
   "outputs": [
    {
     "name": "stderr",
     "output_type": "stream",
     "text": [
      "                                                                                \r"
     ]
    }
   ],
   "source": [
    "from lib.spark import spark\n",
    "\n",
    "df = spark.read.csv('../../docs/coolbet/data/prod/interactions.csv', header=True, inferSchema=True)"
   ]
  },
  {
   "cell_type": "code",
   "execution_count": 3,
   "metadata": {},
   "outputs": [
    {
     "name": "stdout",
     "output_type": "stream",
     "text": [
      "+--------------------+-------+--------+--------------------+-------------+--------------------+\n",
      "|                  id|user_id|match_id|              bet_id|bet_stake_eur|          created_at|\n",
      "+--------------------+-------+--------+--------------------+-------------+--------------------+\n",
      "|3b0b3985-5b33-4e3...|  26380| 2276004|0bf6249c-22b4-4d2...|         4.16|2022-10-24 03:00:...|\n",
      "|6310c975-c1c9-415...|  62988| 2298985|08ef26b6-d96c-474...|         8.39|2022-10-24 03:00:...|\n",
      "|e62b7665-a7d5-441...|  62988| 2298984|08ef26b6-d96c-474...|         8.39|2022-10-24 03:00:...|\n",
      "|766c2d21-6146-4ba...|  62988| 2297370|08ef26b6-d96c-474...|         8.39|2022-10-24 03:00:...|\n",
      "|0149d94f-6db0-496...|  62988| 2297369|08ef26b6-d96c-474...|         8.39|2022-10-24 03:00:...|\n",
      "+--------------------+-------+--------+--------------------+-------------+--------------------+\n",
      "only showing top 5 rows\n",
      "\n"
     ]
    }
   ],
   "source": [
    "df.show(n=5)"
   ]
  },
  {
   "cell_type": "code",
   "execution_count": 4,
   "metadata": {},
   "outputs": [
    {
     "name": "stdout",
     "output_type": "stream",
     "text": [
      "root\n",
      " |-- bet_id: string (nullable = true)\n",
      " |-- n_selections: long (nullable = false)\n",
      "\n"
     ]
    }
   ],
   "source": [
    "n_selections_by_bet_id = df.groupBy('bet_id').count().withColumnRenamed('count', 'n_selections')\n",
    "n_selections_by_bet_id.printSchema()"
   ]
  },
  {
   "cell_type": "code",
   "execution_count": 6,
   "metadata": {},
   "outputs": [
    {
     "name": "stdout",
     "output_type": "stream",
     "text": [
      "root\n",
      " |-- user_id: integer (nullable = true)\n",
      " |-- bet_stake_eur_max: double (nullable = true)\n",
      "\n"
     ]
    }
   ],
   "source": [
    "import pyspark.sql.functions as F\n",
    "\n",
    "bet_stake_eur_max_by_user_id = df.groupBy('user_id').agg(F.max('bet_stake_eur').alias('bet_stake_eur_max'))\n",
    "bet_stake_eur_max_by_user_id.printSchema()"
   ]
  },
  {
   "cell_type": "code",
   "execution_count": 7,
   "metadata": {},
   "outputs": [
    {
     "name": "stderr",
     "output_type": "stream",
     "text": [
      "                                                                                \r"
     ]
    },
    {
     "name": "stdout",
     "output_type": "stream",
     "text": [
      "+-------+--------+--------------------+\n",
      "|user_id|match_id|              rating|\n",
      "+-------+--------+--------------------+\n",
      "|  68098| 2018940|0.018796992481203006|\n",
      "|  36224| 2333712|  0.1087450312322544|\n",
      "|  36224| 2330604|  0.1087450312322544|\n",
      "|  69637| 2297115|  0.6666666666666666|\n",
      "|   6658| 2189458| 0.24800671422576584|\n",
      "+-------+--------+--------------------+\n",
      "only showing top 5 rows\n",
      "\n"
     ]
    }
   ],
   "source": [
    "df = df.join(n_selections_by_bet_id, on='bet_id').join(bet_stake_eur_max_by_user_id, on='user_id')\n",
    "df = df.selectExpr('user_id', 'match_id', 'bet_stake_eur / bet_stake_eur_max AS rating')\n",
    "df.show(n=5)"
   ]
  },
  {
   "cell_type": "code",
   "execution_count": 8,
   "metadata": {},
   "outputs": [],
   "source": [
    "train, test = df.randomSplit([0.8, 0.2])"
   ]
  },
  {
   "cell_type": "code",
   "execution_count": 18,
   "metadata": {},
   "outputs": [
    {
     "name": "stderr",
     "output_type": "stream",
     "text": [
      "                                                                                \r"
     ]
    }
   ],
   "source": [
    "from pyspark.ml.recommendation import ALS\n",
    "\n",
    "model = ALS(\n",
    "    userCol=\"user_id\",\n",
    "    itemCol=\"match_id\",\n",
    "    ratingCol=\"rating\",\n",
    "    coldStartStrategy=\"drop\",\n",
    "    implicitPrefs=True\n",
    ")\n",
    "model = model.fit(train)"
   ]
  },
  {
   "cell_type": "code",
   "execution_count": 19,
   "metadata": {},
   "outputs": [
    {
     "name": "stderr",
     "output_type": "stream",
     "text": [
      "                                                                                \r"
     ]
    },
    {
     "data": {
      "text/plain": [
       "11.543335140339533"
      ]
     },
     "execution_count": 19,
     "metadata": {},
     "output_type": "execute_result"
    }
   ],
   "source": [
    "from pyspark.ml.evaluation import RegressionEvaluator\n",
    "\n",
    "pred = model.transform(test)\n",
    "evaluator = RegressionEvaluator(\n",
    "    metricName=\"rmse\",\n",
    "    labelCol=\"rating\",\n",
    "    predictionCol=\"prediction\"\n",
    ")\n",
    "evaluator.evaluate(pred)"
   ]
  },
  {
   "cell_type": "code",
   "execution_count": 20,
   "metadata": {},
   "outputs": [
    {
     "name": "stderr",
     "output_type": "stream",
     "text": [
      "                                                                                \r"
     ]
    },
    {
     "name": "stdout",
     "output_type": "stream",
     "text": [
      "+-------+--------------------+\n",
      "|user_id|     recommendations|\n",
      "+-------+--------------------+\n",
      "|  18944|[{2297366, 1.5231...|\n",
      "|  36224|[{2187870, 0.9611...|\n",
      "|  69637|[{2303562, 1.0657...|\n",
      "|   6658|[{2319745, 0.4947...|\n",
      "|  68098|[{2297366, 0.8162...|\n",
      "+-------+--------------------+\n",
      "\n",
      "None\n"
     ]
    },
    {
     "name": "stderr",
     "output_type": "stream",
     "text": [
      "                                                                                \r"
     ]
    },
    {
     "name": "stdout",
     "output_type": "stream",
     "text": [
      "+-------+--------+---------+\n",
      "|user_id|match_id|   rating|\n",
      "+-------+--------+---------+\n",
      "|  18944| 2297366|1.5231276|\n",
      "|  18944| 2297368|1.5015057|\n",
      "|  18944| 2297365|1.4159067|\n",
      "|  18944| 2297369|1.3904393|\n",
      "|  36224| 2187870|0.9611831|\n",
      "+-------+--------+---------+\n",
      "only showing top 5 rows\n",
      "\n"
     ]
    }
   ],
   "source": [
    "from pyspark.sql.functions import explode\n",
    "\n",
    "users = df.select(model.getUserCol()).distinct().limit(5)\n",
    "result = model.recommendForUserSubset(users, 4)\n",
    "print(result.show(n=5))\n",
    "result = result\\\n",
    "    .withColumn('recommendations', explode(result.recommendations))\\\n",
    "    .select('user_id', 'recommendations.match_id', 'recommendations.rating')\n",
    "\n",
    "result.show(n=5)"
   ]
  },
  {
   "cell_type": "code",
   "execution_count": 21,
   "metadata": {},
   "outputs": [
    {
     "name": "stdout",
     "output_type": "stream",
     "text": [
      "+--------+--------------------+--------------------+-------+----------+\n",
      "|match_id|                name|              league| region|     sport|\n",
      "+--------+--------------------+--------------------+-------+----------+\n",
      "| 2330802|Hurrell, J - Walt...|Icons of Darts Li...| Europe|     Darts|\n",
      "| 2333567|Dinamo-Erbasu Buc...|      Division A Men|Romania|Basketball|\n",
      "| 2335031|         HSIL - KFUM|         Eliteserien| Norway|    Futsal|\n",
      "| 2327153|Piteå HC - Bodens HF|   Hockeyettan Norra| Sweden|Ice Hockey|\n",
      "| 2330716|Dorking Wanderers...|     National League|England|  Football|\n",
      "+--------+--------------------+--------------------+-------+----------+\n",
      "only showing top 5 rows\n",
      "\n"
     ]
    }
   ],
   "source": [
    "df_matches = spark.read.csv('../../docs/coolbet/data/prod/items.csv', header=True, inferSchema=True).selectExpr('id AS match_id', 'name', 'league', 'region', 'sport')\n",
    "df_matches.show(n=5)"
   ]
  },
  {
   "cell_type": "code",
   "execution_count": 22,
   "metadata": {},
   "outputs": [
    {
     "name": "stderr",
     "output_type": "stream",
     "text": [
      "                                                                                \r"
     ]
    },
    {
     "name": "stdout",
     "output_type": "stream",
     "text": [
      "+--------+-------+----------+--------------------+--------------------+-------+--------+\n",
      "|match_id|user_id|    rating|                name|              league| region|   sport|\n",
      "+--------+-------+----------+--------------------+--------------------+-------+--------+\n",
      "| 2297366|  18944| 1.5231276|RB Leipzig - Real...|UEFA Champions Le...| Europe|Football|\n",
      "| 2297368|  18944| 1.5015057|Borussia Dortmund...|UEFA Champions Le...| Europe|Football|\n",
      "| 2297365|  18944| 1.4159067|Dinamo Zagreb - A...|UEFA Champions Le...| Europe|Football|\n",
      "| 2297369|  18944| 1.3904393|SL Benfica - Juve...|UEFA Champions Le...| Europe|Football|\n",
      "| 2187870|  36224| 0.9611831|Arsenal - Notting...|      Premier League|England|Football|\n",
      "| 2303534|  36224|0.89805305|Real Madrid - Girona|             La Liga|  Spain|Football|\n",
      "| 2319745|  36224| 0.8768701|   Torino - AC Milan|             Serie A|  Italy|Football|\n",
      "| 2187877|  36224|0.84548813|Manchester United...|      Premier League|England|Football|\n",
      "| 2303562|  69637| 1.0657471|Olympique Lyonnai...|             Ligue 1| France|Football|\n",
      "| 2187877|  69637| 1.0589827|Manchester United...|      Premier League|England|Football|\n",
      "| 2319745|  69637| 1.0512289|   Torino - AC Milan|             Serie A|  Italy|Football|\n",
      "| 2278020|  69637|0.98897815|1. FC Union Berli...|          Bundesliga|Germany|Football|\n",
      "| 2319745|   6658|0.49472114|   Torino - AC Milan|             Serie A|  Italy|Football|\n",
      "| 2187877|   6658| 0.4694807|Manchester United...|      Premier League|England|Football|\n",
      "| 2303675|   6658| 0.4497537|Real Sociedad - R...|             La Liga|  Spain|Football|\n",
      "| 2187870|   6658|0.44948846|Arsenal - Notting...|      Premier League|England|Football|\n",
      "| 2297366|  68098| 0.8162865|RB Leipzig - Real...|UEFA Champions Le...| Europe|Football|\n",
      "| 2297368|  68098|0.80072075|Borussia Dortmund...|UEFA Champions Le...| Europe|Football|\n",
      "| 2297365|  68098|0.74331975|Dinamo Zagreb - A...|UEFA Champions Le...| Europe|Football|\n",
      "| 2297369|  68098| 0.7400927|SL Benfica - Juve...|UEFA Champions Le...| Europe|Football|\n",
      "+--------+-------+----------+--------------------+--------------------+-------+--------+\n",
      "\n"
     ]
    }
   ],
   "source": [
    "result.join(df_matches, on='match_id').show()"
   ]
  },
  {
   "cell_type": "code",
   "execution_count": null,
   "metadata": {},
   "outputs": [],
   "source": []
  }
 ],
 "metadata": {
  "kernelspec": {
   "display_name": "Python 3.8.10 ('.venv': venv)",
   "language": "python",
   "name": "python3"
  },
  "language_info": {
   "codemirror_mode": {
    "name": "ipython",
    "version": 3
   },
   "file_extension": ".py",
   "mimetype": "text/x-python",
   "name": "python",
   "nbconvert_exporter": "python",
   "pygments_lexer": "ipython3",
   "version": "3.10.7 (main, Nov 24 2022, 19:45:47) [GCC 12.2.0]"
  },
  "orig_nbformat": 4,
  "vscode": {
   "interpreter": {
    "hash": "d39082b863a1fae2ae39b83c4e94488a6272236157f51c04cca56ecb1b8521fc"
   }
  }
 },
 "nbformat": 4,
 "nbformat_minor": 2
}
